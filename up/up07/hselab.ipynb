{
 "cells": [
  {
   "cell_type": "markdown",
   "metadata": {
    "deletable": true,
    "editable": true
   },
   "source": [
    "# Лабораторная работа 3"
   ]
  },
  {
   "cell_type": "markdown",
   "metadata": {
    "deletable": true,
    "editable": true
   },
   "source": [
    "## Сингулярное разложение и его приложения"
   ]
  },
  {
   "cell_type": "markdown",
   "metadata": {
    "deletable": true,
    "editable": true
   },
   "source": [
    "Напомним, что сингулярным разложением (SVD, Singular value decomposition) матрицы $A$ размера $m\\times n$ называется представление\n",
    "\n",
    "$$A = U\\Sigma V^T,$$\n",
    "\n",
    "где $U$ --- ортогональная матрица размера $m\\times m$, $V$ --- ортогональная матрица размера $n\\times n$, $\\Sigma = \\mathrm{diag}(\\sigma_1,\\sigma_2,\\sigma_3,\\ldots)$ --- диагональная матрица размера $m\\times n$, в которой $\\sigma_1\\geqslant\\sigma_2\\geqslant\\ldots\\geqslant0$.\n",
    "\n",
    "На самом деле, требование, чтобы матрицы $U$ и $V$ были квадратными, избыточно. *Усечённым сингулярным разложением* мы будем называть разложение\n",
    "\n",
    "$$A = U\\Sigma V^T,$$\n",
    "\n",
    "где $U$ --- ортогональная матрица размера $m\\times k$, $V$ --- ортогональная матрица размера $k\\times n$, $\\Sigma$ --- диагональная матрица размера $k\\times k$, причём $k = \\min(m,n)$. Далее мы будем работать исключительно с усечённым разложением."
   ]
  },
  {
   "cell_type": "markdown",
   "metadata": {
    "deletable": true,
    "editable": true
   },
   "source": [
    "### Сжатие данных с помощью SVD = построение низкорангового приближения"
   ]
  },
  {
   "cell_type": "markdown",
   "metadata": {
    "deletable": true,
    "editable": true
   },
   "source": [
    "Введём *норму Фробениуса* матрицы как\n",
    "\n",
    "$$||A||_{frob} = \\sqrt{\\mathrm{tr}{A^TA}} = \\sqrt{\\sum\\limits_{i,j}a^2_{i,j}}$$\n",
    "\n",
    "Иными словами, это обычное евклидово расстояние на пространстве, которое получается, если все матрицы вытянуть в длинные векторы.\n",
    "\n",
    "Зададимся вопросом: как найти матрицу $A_{(r)}$ ранга $r$, наименее отличающуюся от $A$ по норме Фробениуса (то есть для которой норма разности $||A - A_{(r)}||_{frob}$ минимальна). Оказывается, это можно сделать с помощью сингулярного разложения:\n",
    "\n",
    "**Теорема.** Пусть $\\Sigma_{(r)}$ - это матрица, полученная из $\\Sigma$ заменой диагональных элементов $\\sigma_{ii}$ ($i > r$) нулями, тогда $A_{(r)} = U\\Sigma_{(r)}V^T$.\n",
    "\n",
    "Это можно переписать и в более экономичном виде. Если\n",
    "\n",
    "$$A = \\underbrace{\n",
    "\\begin{pmatrix}\n",
    "u_{11} & \\ldots & u_{1k}\\\\\n",
    "\\vdots & & \\vdots\\\\\n",
    "u_{m1} & \\ldots & u_{mk}\n",
    "\\end{pmatrix}}_{=U}\\cdot\\underbrace{{\n",
    "\\begin{pmatrix}\n",
    "\\sigma_{11} & &\\\\\n",
    " & \\sigma_{22} & \\\\\n",
    " & & \\ddots\n",
    "\\end{pmatrix}}\n",
    "}_{=\\Sigma}\\cdot \\underbrace{\n",
    "\\begin{pmatrix}\n",
    "v_{11} & \\ldots & v_{n1}\\\\\n",
    "\\vdots & & \\vdots\\\\\n",
    "v_{1k} & \\ldots & v_{nk}\n",
    "\\end{pmatrix}}_{=V^T}$$\n",
    "\n",
    "то\n",
    "\n",
    "$$A_{(r)} = \\underbrace{\n",
    "\\begin{pmatrix}\n",
    "u_{11} & \\ldots & u_{1r}\\\\\n",
    "\\vdots & & \\vdots\\\\\n",
    "u_{m1} & \\ldots & u_{mr}\n",
    "\\end{pmatrix}}_{=U_r}\\cdot\\underbrace{{\n",
    "\\begin{pmatrix}\n",
    "\\sigma_{11} & &\\\\\n",
    " & \\ddots & \\\\\n",
    " & & \\sigma_{rr}\n",
    "\\end{pmatrix}}\n",
    "}_{=\\Sigma_r}\\cdot \\underbrace{\n",
    "\\begin{pmatrix}\n",
    "v_{11} & \\ldots & v_{n1}\\\\\n",
    "\\vdots & & \\vdots\\\\\n",
    "v_{1r} & \\ldots & v_{nr}\n",
    "\\end{pmatrix}}_{=V^T_r}$$\n",
    "\n",
    "При этом\n",
    "\n",
    "$$||A - A_{r}||_{frob} = \\sqrt{\\sum\\limits_{i\\geqslant r+1} \\sigma_{ii}^2}$$\n",
    "\n",
    "Если сингулярные значения матрицы падают достаточно быстро (а в реальных задачах часто бывает именно так), то норма разности будет малой при сравнительно небольшом значении $r$.\n",
    "\n",
    "На хранение исходной матрицы нам требовалось $m\\times n$ памяти. Теперь же, если мы будем хранить отдельно $U_r$, $V_r$ и диагональные элементы $\\Sigma_r$, затраты памяти составят $mr + nr + r = r(m + n + 1)$."
   ]
  },
  {
   "cell_type": "markdown",
   "metadata": {
    "deletable": true,
    "editable": true
   },
   "source": [
    "**Разложение на компоненты ранга 1**\n",
    "\n",
    "Обозначим через $u_1,\\ldots, u_k$ столбцы матрицы $U$, а через $v_1, \\ldots, v_k$ столбцы матрицы $V$. Тогда имеет место равенство\n",
    "\n",
    "$$A = u_1\\sigma_{11}v_1^T + u_2\\sigma_{22}v_2^T + u_3\\sigma_{33}v_3^T + \\ldots$$\n",
    "\n",
    "Матрицу $u_k\\sigma_{kk}v_k^T = \\sigma_{kk}u_kv_k^T$ мы будем называть $k$-й компонентой ранга 1 матрицы $A$. Отметим, что слагаемые в этой сумме ортогональны относительно скалярного произведения $(X, Y) = \\mathrm{tr}(X^TY)$ (порождающего норму Фробениуса).\n",
    "\n",
    "Как нетрудно заметить,\n",
    "\n",
    "$$A_{r} = \\sigma_{11}u_1v_1^T + \\sigma_{22}u_2v_2^T + \\ldots + \\sigma_{rr}u_rv_r^T$$"
   ]
  },
  {
   "cell_type": "markdown",
   "metadata": {},
   "source": [
    "**Технические детали (SVD в Питоне)**\n",
    "\n",
    "Есть несколько способов сделать в Питоне сингулярное разложение; мы пока предлагаем вам использовать\n",
    "\n",
    "`import scipy.linalg.as sla`\n",
    "\n",
    "`U, S, Vt = sla.svd(X, full_matrices=False)`\n",
    "\n",
    "Обращаем ваше внимание на то, что `U, S, Vt` - это соответственно матрицы $U$, $\\Sigma$ и $V^T$ (не забывайте про это $^T$). Параметр `full_matrices` отвечает за то, будет ли сингулярное разложение полным или усечённым. "
   ]
  },
  {
   "cell_type": "markdown",
   "metadata": {
    "deletable": true,
    "editable": true
   },
   "source": [
    "### Задание 1. Сжатие данных с помощью SVD"
   ]
  },
  {
   "cell_type": "markdown",
   "metadata": {
    "deletable": true,
    "editable": true
   },
   "source": [
    "Загрузите выложенную на странице курса фотографию."
   ]
  },
  {
   "cell_type": "code",
   "execution_count": null,
   "metadata": {
    "collapsed": true,
    "deletable": true,
    "editable": true
   },
   "outputs": [],
   "source": [
    "from PIL import Image\n",
    "from scipy import misc\n",
    "\n",
    "img = misc.imread(r'.../Sonya_small.jpg', mode='L') # это матрица из интенсивностей серого цвета; её уже можно подвергать SVD"
   ]
  },
  {
   "cell_type": "markdown",
   "metadata": {
    "deletable": true,
    "editable": true
   },
   "source": [
    "Нарисуйте картинку:"
   ]
  },
  {
   "cell_type": "code",
   "execution_count": null,
   "metadata": {
    "collapsed": true,
    "deletable": true,
    "editable": true
   },
   "outputs": [],
   "source": [
    "import pylab as plt\n",
    "%matplotlib inline\n",
    "\n",
    "imgplot = plt.imshow(img, cmap='gray')"
   ]
  },
  {
   "cell_type": "markdown",
   "metadata": {
    "deletable": true,
    "editable": true
   },
   "source": [
    "Постройте сингулярное разложение этой матрицы."
   ]
  },
  {
   "cell_type": "code",
   "execution_count": null,
   "metadata": {
    "collapsed": true,
    "deletable": true,
    "editable": true
   },
   "outputs": [],
   "source": [
    "from numpy.linalg import svd\n",
    "\n",
    "U, S, VT = svd(img, full_matricies=False)"
   ]
  },
  {
   "cell_type": "markdown",
   "metadata": {
    "deletable": true,
    "editable": true
   },
   "source": [
    "Нарисуйте график диагональных элементов матрицы $\\Sigma$:"
   ]
  },
  {
   "cell_type": "code",
   "execution_count": null,
   "metadata": {
    "collapsed": true,
    "deletable": true,
    "editable": true
   },
   "outputs": [],
   "source": [
    "sigma = # your code here\n",
    "plt.plot(sigma)"
   ]
  },
  {
   "cell_type": "markdown",
   "metadata": {
    "deletable": true,
    "editable": true
   },
   "source": [
    "Кажется, что они убывают достаточно быстро и есть надежда, что первые несколько компонент дадут картинку, близкую к исходной.\n",
    "\n",
    "Визуализуйте первую компоненту ранга 1. Ожидали ли вы увидеть именно это? Почему?\n",
    "\n",
    "Визуализуйте суммы компонент ранга 1 с первой по двадцатую, с первой по пятидесятую, с двадцатой по сотую, с двадцатой по последнюю. Сделайте выводы.\n",
    "\n",
    "**Важно:** пожалуйста, сделайте это с помощью только матричных операций, без циклов, функций `map` и `reduce`, а также специальных функций, находящих суммы компонент."
   ]
  },
  {
   "cell_type": "code",
   "execution_count": null,
   "metadata": {
    "collapsed": true,
    "deletable": true,
    "editable": true
   },
   "outputs": [],
   "source": []
  },
  {
   "cell_type": "markdown",
   "metadata": {},
   "source": [
    "Как вам кажется, сколько первых главных компонент нужно взять для достаточно хорошего восстановления исходного изображения? Во сколько раз меньше памяти потребуется для их хранения?"
   ]
  },
  {
   "cell_type": "code",
   "execution_count": null,
   "metadata": {
    "collapsed": true
   },
   "outputs": [],
   "source": []
  },
  {
   "cell_type": "markdown",
   "metadata": {
    "collapsed": true,
    "deletable": true,
    "editable": true
   },
   "source": [
    "### Задание 2. Геометрия SVD. Визуализация данных с помощью SVD."
   ]
  },
  {
   "cell_type": "markdown",
   "metadata": {},
   "source": [
    "**Геометрический смысл SVD**\n",
    "\n",
    "Допустим, что у нас есть выборка $x_1,\\ldots,x_m\\in\\mathbb{R}^n$. Запишем её в матрицу объекты-признаки\n",
    "\n",
    "$$X = \\begin{pmatrix}\n",
    "x_{11} & \\ldots & x_{1n}\\\\\n",
    "\\vdots & & \\vdots\\\\\n",
    "x_{m1} & \\ldots & x_{mn}\n",
    "\\end{pmatrix}$$\n",
    "\n",
    "(строки - объекты, столбцы - признаки) и сделаем SVD-разложение: $X = U\\Sigma V^T$. Его можно интерпретировать следующим образом:\n",
    "\n",
    "$$X = U\\Sigma\\cdot V^T,$$\n",
    "\n",
    "где $U\\Sigma$ - это матрица объекты-признаки для тех же объектов, но в новых признаках, полученных из исходных с помощью линейного преобразования $V^T$ (напоминаем, что умножение на матрицу справа соответствует преобразованию столбцов). Попробуем понять, чем замечательны эти признаки.\n",
    "\n",
    "Рассмотрим матрицу $X^TX = U\\Sigma^2U^T$. Легко видеть, что это матрица Грама системы столбцов матрицы $X$; иными словами, в ней записаны скалярные произведения векторов различных признаков. Из лекций вы знаете, что $\\sigma_1^2$, квадрат первого сингулярного числа, это наибольшее собственное значение матрицы $X^TX$, а $u_1$, первый столбец матрицы $U$, - это соответствующий собственный вектор. Можно показать, что\n",
    "\n",
    "$$\\sigma_1 = \\mathrm{max}_{w}\\frac{|Xw|}{|w|} = \\mathrm{max}_{|w| = 1}\\left(|Xw|\\right),$$\n",
    "\n",
    "Попробуем осознать физический смысл этой штуки. Напомним, что строки матрицы $X$ - это координаты объектов $x_1,\\ldots,x_m$ в пространстве признаков. Произведение $Xw$ - это вектор из значений на тех же самых объектах некоторого нового признака, являющегося линейной комбинацией исходных с коэффициентами $w_1,\\ldots,w_n$:\n",
    "\n",
    "$Xw = w_1\\begin{pmatrix} x_{11}\\\\ \\ldots \\\\ x_{m1}\n",
    "\\end{pmatrix} + w_2\\begin{pmatrix} x_{12}\\\\ \\ldots \\\\ x_{m2}\n",
    "\\end{pmatrix} + \\ldots + w_n\\begin{pmatrix} x_{1n}\\\\ \\ldots \\\\ x_{mn}\n",
    "\\end{pmatrix}$\n",
    "\n",
    "Соответственно, $|Xw|^2$ - это квадрат длины вектора, составленного из значений нового признака.\n",
    "\n",
    "Таким образом, первому сингулярному значению $\\sigma_1$ отвечает такой признак, у которого сумма квадратов значений максимальна, то есть признак, принимающий, условно говоря, самые большие значения.\n",
    "\n",
    "Резюмируя, мы можем сказать, что сингулярное разложение делает следующее:\n",
    "- находит новый признак (новое направление) вдоль которого \"дисперсия\"$^1$ максимальна;\n",
    "- в ортогональной ему плоскости находит признак, вдоль которого \"дисперсия\" максимальна;\n",
    "- и так далее.\n",
    "\n",
    "В задании 3.3 вы в этом убедитесь на конкретном примере.\n",
    "\n",
    "---\n",
    "$^1$ настоящая выборочная дисперсия с точностью до числового множителя была бы равна $|Xw - \\overline{Xw}|^2$, где $\\overline{Xw} = \\frac1m\\sum_{i=1}^m(Xw)_i$ - среднее значения признака."
   ]
  },
  {
   "cell_type": "markdown",
   "metadata": {},
   "source": [
    "**Визуализация данных с помощью SVD**\n",
    "\n",
    "Выше мы обсудили, что первые из \"новых признаков\" - это признаки, значения которых, скажем так, наиболее разнообразны. Зачастую (хотя и не всегда) именно они несут в себе наиболее важные черты датасета. И если взять две-три первых, то датасет можно нарисовать и посмотреть на него - и, возможно, обнаружить какую-то структуру.\n",
    "\n",
    "**Задание 2.1.** С помощью функции `dsklearn.datasets.load_digits()` загрузите датасет рукописных цифр [MNIST](http://yann.lecun.com/exdb/mnist/). В нём есть несколько атрибутов; вам сейчас будут нужны `digits.data` (`np.array`, строки которого - это вытянутые в одну строку значения пикселей) и `digits.target` (в них записаны соответствующие цифры)."
   ]
  },
  {
   "cell_type": "code",
   "execution_count": 58,
   "metadata": {
    "collapsed": false
   },
   "outputs": [
    {
     "name": "stdout",
     "output_type": "stream",
     "text": [
      "0\n"
     ]
    },
    {
     "data": {
      "text/plain": [
       "<matplotlib.image.AxesImage at 0xb989f28>"
      ]
     },
     "execution_count": 58,
     "metadata": {},
     "output_type": "execute_result"
    },
    {
     "data": {
      "image/png": "[encoded data removed]",
      "text/plain": [
       "<matplotlib.figure.Figure at 0xb62acf8>"
      ]
     },
     "metadata": {},
     "output_type": "display_data"
    }
   ],
   "source": [
    "from sklearn import datasets\n",
    "\n",
    "digits = datasets.load_digits()\n",
    "\n",
    "print(digits.target[0])\n",
    "\n",
    "plt.imshow(digits.data[0].reshape((8,8)))"
   ]
  },
  {
   "cell_type": "markdown",
   "metadata": {},
   "source": [
    "Примените к матрице `digits.target` сингулярное разложение.\n",
    "\n",
    "Первые два столбца матрицы $U\\Sigma$ - это проекция датасета на некоторую плоскость (объекты - это строки!). Нарисуйте на плоскости эти точки, покрасив различные цифры (0,1,2,...) в разные цвета. Получается ли какая-то структура?"
   ]
  },
  {
   "cell_type": "code",
   "execution_count": null,
   "metadata": {
    "collapsed": false
   },
   "outputs": [],
   "source": []
  },
  {
   "cell_type": "markdown",
   "metadata": {},
   "source": [
    "Если вы всё сделали правильно, то никакой структуры не должно было получиться:)\n",
    "\n",
    "А всё потому, что мы не сделали одной важной вещи (почему она важна - мы с вами увидим в конце третьего задания). Теперь вычтите из каждого признака (т.е. из каждого столбца) его среднее значение, снова сделайте SVD и нарисуйте разноцветные точки."
   ]
  },
  {
   "cell_type": "code",
   "execution_count": null,
   "metadata": {
    "collapsed": true
   },
   "outputs": [],
   "source": []
  },
  {
   "cell_type": "markdown",
   "metadata": {},
   "source": [
    "Теперь у вас должна была получиться красивая картинка!"
   ]
  },
  {
   "cell_type": "markdown",
   "metadata": {},
   "source": [
    "**Задание 2.$\\frac32^*$**. Сравните работу SVD с другим методом понижения размерности: [случайными гауссовскими проекциями](http://scikit-learn.org/stable/modules/generated/sklearn.random_projection.GaussianRandomProjection.html). Задание со звёздочкой и не про линейную алгебру, поэтому ничего не объясняем."
   ]
  },
  {
   "cell_type": "code",
   "execution_count": null,
   "metadata": {
    "collapsed": true
   },
   "outputs": [],
   "source": []
  },
  {
   "cell_type": "markdown",
   "metadata": {},
   "source": [
    "### Задание 3. Когда SVD не сработает."
   ]
  },
  {
   "cell_type": "markdown",
   "metadata": {},
   "source": [
    "**Disclaimer**\n",
    "\n",
    "Цель этого задания - познакомить вас не только с геометрическим смыслом сингулярного разложения, но и перекинуть очередной мостик между линейной алгеброй и анализом данных. К сожалению, на том берегу вас встретят разные пока неизведанные понятия; мы постараемся по возможности дать какие-то определения, но, конечно, нет никакой возможности изложить на этих страницах полный курс теории вероятностей. Поэтому какие-то вещи останутся недосказанными или необоснованными; если вам будет интересно, не стесняйтесь читать соответствующую литературу или хотя бы Википедию, а если нет, то мы надеемся, что хотя бы наглядное представление у вас сформируется. В любом случае, нам хотелось бы, чтобы воспоминания об этом всколыхнулись в ваших головах, когда вы будете это всё изучать в курсе по теории вероятностей."
   ]
  },
  {
   "cell_type": "markdown",
   "metadata": {},
   "source": [
    "Но начнём мы с того, что обсудим ситуацию, в которой SVD работает лучше всего: а именно, со случая, когда данные распределены нормально."
   ]
  },
  {
   "cell_type": "markdown",
   "metadata": {
    "collapsed": true,
    "deletable": true,
    "editable": true
   },
   "source": [
    "**Что такое плотность вероятности**\n",
    "\n",
    "В дальнейшем вам достаточно часто придётся сталкиваться со *случайными величинами*. Мы не будем сейчас пытаться строго определить, что это такое (для этого у вас будет целый курс по теории вероятностей), а остановимся только на одном его аспекте.\n",
    "\n",
    "Если случайная величина $X$ принимает лишь конечное (или счётное) число значений $x_1,x_2,\\ldots$, то чтобы задать её, достаточно описать, с какой вероятностью $X$ равна $x_i$: \n",
    "\n",
    "$$p_i = P(X = x_i)$$\n",
    "\n",
    "таким образом, чтобы $\\sum_ip_i = 1$. Если же $X$ принимает значения на каком-либо отрезке или на всей числовой прямой, то так уже не получится: в этом случае вероятность того, что $X$ равна какому-то конкретному $x_0$, равна нулю. Как правило, заменой вероятностей $p_i$ служит *функция плотности распределения* $p(x)$. Смысл её таков:\n",
    "\n",
    "$$P(\\alpha\\leqslant X\\leqslant\\beta) = \\int\\limits_{\\alpha}^{\\beta}p(x)dx$$\n",
    "\n",
    "(в левой части стоит вероятность того, что значение $X$ лежит на отрезке $[\\alpha,\\beta]$).\n",
    "\n",
    "Таким образом, функция $p(x)$ действительно играет роль \"плотности\": вероятность попасть в отрезок одной и той же длины тем выше, чем больше значения $p(x)$ на нём.\n",
    "\n",
    "**Нормальное распределение**\n",
    "\n",
    "Одним из самых важных примеров непрерывных распределений является *нормальное распределение*. Его плотность имеет вид\n",
    "\n",
    "$$p(x) = \\frac1{\\sqrt{2\\pi\\sigma^2}}e^{-\\frac{(x - a)^2}{2\\sigma^2}}$$\n",
    "\n",
    "У него есть два параметра:\n",
    "\n",
    "- $a$ - *математическое ожидание*, имеющее смысл среднего значения и для нормального распределения совпадающее с центром симметрии распределения;\n",
    "- $\\sigma^2$ - *дисперсия*: чем она меньше, тем в большей степени распределение сконцентрировано подле своего математического ожидания\n",
    "\n",
    "Нормальное распределение с параметрами $a$ и $\\sigma^2$ можно кратко обозначать $\\mathcal{N}(a, \\sigma^2)$.\n",
    "\n",
    "Чтобы проиллюстрировать это, я сгененерирую много точек из распределений $\\mathcal{N}(2, 0.25)$, $\\mathcal{N}(2, 1)$ и $\\mathcal{N}(2, 4)$ и по ним в каждом из этих случаев построю аппроксимацию функции плотности распределения. Обратите внимание, что параметр $a$ в `numpy` называется `loc`, $\\sigma$ (без квадрата!) --- `scale`."
   ]
  },
  {
   "cell_type": "code",
   "execution_count": 3,
   "metadata": {
    "collapsed": true
   },
   "outputs": [],
   "source": [
    "import numpy as np\n",
    "from scipy.interpolate import UnivariateSpline\n",
    "from matplotlib import pyplot as plt\n",
    "%matplotlib inline"
   ]
  },
  {
   "cell_type": "code",
   "execution_count": 14,
   "metadata": {
    "collapsed": false
   },
   "outputs": [
    {
     "data": {
      "image/png": "[encoded data removed]",
      "text/plain": [
       "<matplotlib.figure.Figure at 0x9363c50>"
      ]
     },
     "metadata": {},
     "output_type": "display_data"
    }
   ],
   "source": [
    "N = 10000\n",
    "plt.xlim([-1,5])\n",
    "s = np.random.normal(loc=2, scale=0.5, size=N)   # generate your data sample with N elements\n",
    "p, x = np.histogram(s, bins=N/100) # bin it into n = N/10 bins\n",
    "x = x[:-1] + (x[1] - x[0])/2   # convert bin edges to centers\n",
    "f = UnivariateSpline(x, p, s=N)\n",
    "plt.plot(x, f(x), label='N(0,0.25)')\n",
    "\n",
    "s = np.random.normal(loc=2, scale=1, size=N)   # generate your data sample with N elements\n",
    "p, x = np.histogram(s, bins=N/100) # bin it into n = N/10 bins\n",
    "x = x[:-1] + (x[1] - x[0])/2   # convert bin edges to centers\n",
    "f = UnivariateSpline(x, p, s=N)\n",
    "plt.plot(x, f(x), label='N(0,1)')\n",
    "\n",
    "s = np.random.normal(loc=2, scale=2, size=N)   # generate your data sample with N elements\n",
    "p, x = np.histogram(s, bins=N/100) # bin it into n = N/10 bins\n",
    "x = x[:-1] + (x[1] - x[0])/2   # convert bin edges to centers\n",
    "f = UnivariateSpline(x, p, s=N)\n",
    "plt.plot(x, f(x), label='N(0,4)')\n",
    "plt.legend()\n",
    "plt.show()"
   ]
  },
  {
   "cell_type": "markdown",
   "metadata": {},
   "source": [
    "**Функция плотности распределения в многомерном случае**\n",
    "\n",
    "Если значения случайной величины $X$ --- это многомерные векторы, функция плотности сохраняет примерно тот же смысл: если $\\Omega\\subseteq\\mathbb{R}^n$, то\n",
    "\n",
    "$$P(X\\in\\Omega) = \\int\\limits_{\\Omega}p(x)dx$$\n",
    "\n",
    "**Многомерное нормальное распределение**\n",
    "\n",
    "Многомерное нормальное распределение определяется также двумя параметрами: *вектором средних* $a$ и положительно определённой *ковариационной матрицей* $\\Sigma$; оно имеет плотность\n",
    "\n",
    "$$p(x) = \\frac1{(2\\pi)^{n/2}|\\Sigma|^{1/2}}e^{-\\frac12(x - a)^T\\Sigma^{-1}(x - a)}$$\n",
    "\n",
    "где, напомним, $x$ --- вектор из $\\mathbb{R}^n$. Компоненты вектора $a$ --- это математические ожидания отдельных координат $X$, а на диагонали матрицы $\\Sigma$ стоят их *дисперсии* (настоящие, без кавычек). Вне диагонали стоят *ковариации* компонент $X$ (пока вам достаточно понимать, что если они равны нулю, то эти компоненты независимы$^1$).\n",
    "\n",
    "---\n",
    "$^1$ Точнее сказать, некоррелированы, однако для нормального распределения независимости и некоррелированность равносильны (на самом деле редкое и удачное свойство!).\n",
    "\n",
    "**Задание 3.1.** Докажите, что поверхности уровня $p(x) = c$ --- это эллипсоиды."
   ]
  },
  {
   "cell_type": "markdown",
   "metadata": {},
   "source": [
    "---\n",
    "\n",
    "*Ваше доказательство*"
   ]
  },
  {
   "cell_type": "markdown",
   "metadata": {},
   "source": [
    "**Задание 3.2.** Пользуясь теоремой о приведении квадратичной формы к главным осям, докажите, что функцию плотности многомерного нормального распределения можно представить в виде произведения одномерных нормальных плотностей. В частности, это означает, что с помощью замены координат можно добиться того, чтобы отдельные компоненты были независимы."
   ]
  },
  {
   "cell_type": "markdown",
   "metadata": {},
   "source": [
    "---\n",
    "\n",
    "*Ваше доказательство*"
   ]
  },
  {
   "cell_type": "markdown",
   "metadata": {},
   "source": [
    "А мы, тем временем, продемонстрируем это на конкретном примере, сгенерировав много точек из двумерного нормального распределения с вектором средних $(0,0)$ и ковариационной матрицей\n",
    "\n",
    "$$\\begin{pmatrix}\n",
    "1 & \\frac32\\\\\n",
    "\\frac32 & 5\n",
    "\\end{pmatrix}$$\n",
    "\n",
    "и нарисовав приближённо линии уровня функции плотности."
   ]
  },
  {
   "cell_type": "code",
   "execution_count": 19,
   "metadata": {
    "collapsed": false
   },
   "outputs": [
    {
     "data": {
      "text/plain": [
       "<matplotlib.axes._subplots.AxesSubplot at 0x82aba90>"
      ]
     },
     "execution_count": 19,
     "metadata": {},
     "output_type": "execute_result"
    },
    {
     "data": {
      "image/png": "[encoded data removed]",
      "text/plain": [
       "<matplotlib.figure.Figure at 0x8301c50>"
      ]
     },
     "metadata": {},
     "output_type": "display_data"
    }
   ],
   "source": [
    "import seaborn as sns\n",
    "import numpy as np\n",
    "\n",
    "N = 2000\n",
    "s = np.random.multivariate_normal(mean=np.array([-1,3]), cov=np.array([[1,1.5],[1.5,5]]), size=N)\n",
    "plt.scatter(s[:,0], s[:,1], color='red')\n",
    "sns.kdeplot(s, shade=False, color='g')"
   ]
  },
  {
   "cell_type": "markdown",
   "metadata": {
    "collapsed": false
   },
   "source": [
    "Как видите, линии уровня весьма напоминают эллипсы (только напоминают, потому что точек у нас всё-таки конечное число)."
   ]
  },
  {
   "cell_type": "markdown",
   "metadata": {},
   "source": [
    "**Так при чём тут SVD?!**"
   ]
  },
  {
   "cell_type": "markdown",
   "metadata": {},
   "source": [
    "**Задание 3.3.** Сгенерируйте выборку из 1000 точек $x_1,\\ldots,x_{1000}$ из нормального распределения с вектором средних $a = (0,0)$ и ковариационной матрицей\n",
    "\n",
    "$$\\Sigma = \\begin{pmatrix}\n",
    "1 & -2\\\\\n",
    "-2 & 5\n",
    "\\end{pmatrix}$$\n",
    "\n",
    "Должна получиться матрица $X$ размера $1000\\times2$. Сделайте SVD-разложение $X = U\\Sigma V^T$. Нарисуйте на плоскости все точки $x_i$ и направления новых признаков (подсказка: они где-то в матрице $V^T$). Убедитесь, что направления новых признаков примерно совпадают с направлениями полуосей эллипса, образованного точками."
   ]
  },
  {
   "cell_type": "code",
   "execution_count": null,
   "metadata": {
    "collapsed": true
   },
   "outputs": [],
   "source": []
  },
  {
   "cell_type": "markdown",
   "metadata": {},
   "source": [
    "Теперь приведите к главным осям матрицу ковариации и убедитесь, что направления этих осей тоже примерно совпадают с наблюдаемыми направлениями полуосей эллипсоида."
   ]
  },
  {
   "cell_type": "markdown",
   "metadata": {},
   "source": [
    "---\n",
    "\n",
    "*Ваше решение*"
   ]
  },
  {
   "cell_type": "markdown",
   "metadata": {},
   "source": [
    "**Когда SVD не работает**\n",
    "\n",
    "Как вы могли убедиться, SVD хорошо справляется со своей работой, когда данные распределены нормально, а в других случаях может давать совсем не такие информативные (или даже не адекватные) результаты.\n",
    "\n",
    "**Задание 3.4.** Сгенерируйте двумерную выборку, представляющую собой два расположенных рядом (см. пример ниже) длинных и узких не пересекающихся эллипса с центрами в точках $(-1,0)$ и $(1,0)$ и с параллельными направлениями полуосей (подсказка: просто возьмите одинаковые ковариационные матрицы). Иными словами, постарайтесь как можно точнее воспроизвести картинку ниже. \n",
    "\n",
    "Сделайте SVD и нарисуйте направления новых признаков.\n",
    "\n",
    "Если бы мы решали задачу анализа данных, то скорее всего нас интересовал признак, который бы разделял два кластера (в данном случае два эллипса). Убедитесь, что ни один из предоставленных SVD признаков не помогает обнаружить эту структуру."
   ]
  },
  {
   "cell_type": "code",
   "execution_count": null,
   "metadata": {
    "collapsed": true
   },
   "outputs": [],
   "source": [
    "# Your code here"
   ]
  },
  {
   "cell_type": "code",
   "execution_count": 16,
   "metadata": {
    "collapsed": false
   },
   "outputs": [
    {
     "data": {
      "text/plain": [
       "<matplotlib.collections.PathCollection at 0x81e8908>"
      ]
     },
     "execution_count": 16,
     "metadata": {},
     "output_type": "execute_result"
    },
    {
     "data": {
      "image/png": "[encoded data removed]",
      "text/plain": [
       "<matplotlib.figure.Figure at 0x7f73908>"
      ]
     },
     "metadata": {},
     "output_type": "display_data"
    }
   ],
   "source": [
    "# Just keep this image as a sample"
   ]
  },
  {
   "cell_type": "markdown",
   "metadata": {},
   "source": [
    "Более тонкая проблема возникает, когда центр тяжести облака точек находится не в нуле.\n",
    "\n",
    "**Задание 3.5.** Сгенерируйте выборку из 1000 точек $x_1,\\ldots,x_{1000}$ из нормального распределения с вектором средних $a = (1,1)$ и ковариационной матрицей\n",
    "\n",
    "$$\\Sigma = \\begin{pmatrix}\n",
    "1 & 0\\\\\n",
    "0 & 4\n",
    "\\end{pmatrix}$$\n",
    "\n",
    "Очевидно, что \"интересными\" для этого датасета направлениями будут направления полуосей эллипса-облака точек (кстати, вы можете глядя только на матрицу сказать, что это за направления?).\n",
    "\n",
    "Сделайте SVD-разложение $X = U\\Sigma V^T$. Нарисуйте все точки $x_i$ на плоскости и направления новых признаков. Убедитесь, что первый \"новый признак\" указывает куда-то в сторону центра тяжести эллипсоида, а второй и вовсе непонятно куда."
   ]
  },
  {
   "cell_type": "code",
   "execution_count": null,
   "metadata": {
    "collapsed": true
   },
   "outputs": [],
   "source": []
  },
  {
   "cell_type": "markdown",
   "metadata": {},
   "source": [
    "Отсюда надо сделать\n",
    "\n",
    "**Вывод:** перед тем, как использовать SVD в анализе данных зачастую полезным бывает добиться того, чтобы облако точек было центрировано в нуле. Для этого нужно из каждого признака вычесть его средние значения.\n",
    "\n",
    "Именно эта проблема и попортила нам кровь во второй задаче, когда нам не получилось с первого раза красиво спроецировать MNIST!"
   ]
  }
 ],
 "metadata": {
  "kernelspec": {
   "display_name": "Python 3",
   "language": "python",
   "name": "python3"
  },
  "language_info": {
   "codemirror_mode": {
    "name": "ipython",
    "version": 3
   },
   "file_extension": ".py",
   "mimetype": "text/x-python",
   "name": "python",
   "nbconvert_exporter": "python",
   "pygments_lexer": "ipython3",
   "version": "3.6.0"
  }
 },
 "nbformat": 4,
 "nbformat_minor": 0
}
